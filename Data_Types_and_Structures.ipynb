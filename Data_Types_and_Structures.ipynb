{
  "nbformat": 4,
  "nbformat_minor": 0,
  "metadata": {
    "colab": {
      "provenance": []
    },
    "kernelspec": {
      "name": "python3",
      "display_name": "Python 3"
    },
    "language_info": {
      "name": "python"
    }
  },
  "cells": [
    {
      "cell_type": "markdown",
      "source": [
        "   **Data types and Structures Theory Questions-**"
      ],
      "metadata": {
        "id": "fojjoswr3Mw0"
      }
    },
    {
      "cell_type": "markdown",
      "source": [
        "Q1- What are data structures, and why are they important?\n",
        "\n",
        " - In Python, data structures refer to the ways in which data is organized, stored, and manipulated in a program. These structures are implemented through built-in Python collections or can be defined using custom classes. Why They Are Important?\n",
        "\n",
        "- Different data structures optimize specific operations. Python's built-in\n",
        "data structures are optimized for common tasks like searching, inserting, deleting, and iterating over data.\n",
        "\n",
        "- Python’s built-in data structures are optimized for memory usage, allowing for efficient storage and retrieval of data.\n",
        "\n",
        "- Data structures allow Python developers to solve real-world problems\n",
        "efficiently.\n",
        "\n",
        "\n"
      ],
      "metadata": {
        "id": "ZxMZQbYJ3aRw"
      }
    },
    {
      "cell_type": "markdown",
      "source": [
        "Q2- Explain the difference between mutable and immutable data types with examples.\n",
        "\n",
        "1.Mutable Data Types- A mutable data type is one where the value or contents of the object can be changed after the object has been created. In other words, mutable objects can be modified in place.\n",
        "\n",
        "2.Some of the mutable data types in python are- lists,dictionaries,sets, etc."
      ],
      "metadata": {
        "id": "nTzqiCiW4yH0"
      }
    },
    {
      "cell_type": "code",
      "source": [
        "#example of mutable data types-\n",
        "# Lists (mutable)\n",
        "my_list = [1, 2, 3]\n",
        "print(my_list)\n",
        "\n",
        "# Modify list\n",
        "my_list.append(4)\n",
        "my_list[0] = 10\n",
        "print(my_list)\n",
        ""
      ],
      "metadata": {
        "colab": {
          "base_uri": "https://localhost:8080/"
        },
        "id": "o6aopTqC5EhN",
        "outputId": "ebd7f265-5aa2-4ac8-c8f8-90bb1fc7e354"
      },
      "execution_count": 1,
      "outputs": [
        {
          "output_type": "stream",
          "name": "stdout",
          "text": [
            "[1, 2, 3]\n",
            "[10, 2, 3, 4]\n"
          ]
        }
      ]
    },
    {
      "cell_type": "markdown",
      "source": [
        "3.Immutable Data Types- An immutable data type is one where the value or contents cannot be changed once the object is created. If you attempt to modify the value, a new object is created instead of modifying the original.\n",
        "\n",
        "4.Some of the immutable data types in python are- tuples, integer, strings, etc."
      ],
      "metadata": {
        "id": "MpLDNWg65PI7"
      }
    },
    {
      "cell_type": "code",
      "source": [
        "# Tuples (immutable)\n",
        "my_tuple = (1, 2, 3)\n",
        "print(my_tuple)  # Output: (1, 2, 3)\n",
        "my_tuple[0] = 10"
      ],
      "metadata": {
        "colab": {
          "base_uri": "https://localhost:8080/",
          "height": 193
        },
        "id": "JBO4UC8K5S3B",
        "outputId": "03a6f25e-a081-45ac-97ff-d115d2619943"
      },
      "execution_count": 2,
      "outputs": [
        {
          "output_type": "stream",
          "name": "stdout",
          "text": [
            "(1, 2, 3)\n"
          ]
        },
        {
          "output_type": "error",
          "ename": "TypeError",
          "evalue": "'tuple' object does not support item assignment",
          "traceback": [
            "\u001b[0;31m---------------------------------------------------------------------------\u001b[0m",
            "\u001b[0;31mTypeError\u001b[0m                                 Traceback (most recent call last)",
            "\u001b[0;32m<ipython-input-2-883f8b4e88a2>\u001b[0m in \u001b[0;36m<cell line: 4>\u001b[0;34m()\u001b[0m\n\u001b[1;32m      2\u001b[0m \u001b[0mmy_tuple\u001b[0m \u001b[0;34m=\u001b[0m \u001b[0;34m(\u001b[0m\u001b[0;36m1\u001b[0m\u001b[0;34m,\u001b[0m \u001b[0;36m2\u001b[0m\u001b[0;34m,\u001b[0m \u001b[0;36m3\u001b[0m\u001b[0;34m)\u001b[0m\u001b[0;34m\u001b[0m\u001b[0;34m\u001b[0m\u001b[0m\n\u001b[1;32m      3\u001b[0m \u001b[0mprint\u001b[0m\u001b[0;34m(\u001b[0m\u001b[0mmy_tuple\u001b[0m\u001b[0;34m)\u001b[0m  \u001b[0;31m# Output: (1, 2, 3)\u001b[0m\u001b[0;34m\u001b[0m\u001b[0;34m\u001b[0m\u001b[0m\n\u001b[0;32m----> 4\u001b[0;31m \u001b[0mmy_tuple\u001b[0m\u001b[0;34m[\u001b[0m\u001b[0;36m0\u001b[0m\u001b[0;34m]\u001b[0m \u001b[0;34m=\u001b[0m \u001b[0;36m10\u001b[0m\u001b[0;34m\u001b[0m\u001b[0;34m\u001b[0m\u001b[0m\n\u001b[0m",
            "\u001b[0;31mTypeError\u001b[0m: 'tuple' object does not support item assignment"
          ]
        }
      ]
    },
    {
      "cell_type": "markdown",
      "source": [
        "Q3- What are the main differences between lists and tuples in Python?\n",
        "\n",
        "1.Lists are mutable and suitable for data that may change.\n",
        "\n",
        "2.Tuples are immutable and efficient for fixed collections of data.\n",
        "\n",
        "\n",
        "Examples Given Below-"
      ],
      "metadata": {
        "id": "NVLXYHJj5a2Y"
      }
    },
    {
      "cell_type": "code",
      "source": [
        "#example of mutable data types-\n",
        "# Lists (mutable)\n",
        "my_list = [1, 2, 3]\n",
        "print(my_list)\n",
        "\n",
        "# Modify list\n",
        "my_list.append(4)\n",
        "my_list[0] = 10\n",
        "print(my_list)\n"
      ],
      "metadata": {
        "colab": {
          "base_uri": "https://localhost:8080/"
        },
        "id": "SZoPWIhh5dx-",
        "outputId": "a47dbf55-1b51-4a2d-a70c-30687e69356a"
      },
      "execution_count": 3,
      "outputs": [
        {
          "output_type": "stream",
          "name": "stdout",
          "text": [
            "[1, 2, 3]\n",
            "[10, 2, 3, 4]\n"
          ]
        }
      ]
    },
    {
      "cell_type": "code",
      "source": [
        "#example of immutable data types-\n",
        "# Tuples (immutable)\n",
        "my_tuple = (1, 2, 3)\n",
        "print(my_tuple)  # Output: (1, 2, 3)\n",
        "my_tuple[0] = 10"
      ],
      "metadata": {
        "colab": {
          "base_uri": "https://localhost:8080/",
          "height": 193
        },
        "id": "Ng3kn06P5gat",
        "outputId": "1e424ddd-6935-450f-efad-711f6abf2cbc"
      },
      "execution_count": 4,
      "outputs": [
        {
          "output_type": "stream",
          "name": "stdout",
          "text": [
            "(1, 2, 3)\n"
          ]
        },
        {
          "output_type": "error",
          "ename": "TypeError",
          "evalue": "'tuple' object does not support item assignment",
          "traceback": [
            "\u001b[0;31m---------------------------------------------------------------------------\u001b[0m",
            "\u001b[0;31mTypeError\u001b[0m                                 Traceback (most recent call last)",
            "\u001b[0;32m<ipython-input-4-bf0c726c50ec>\u001b[0m in \u001b[0;36m<cell line: 5>\u001b[0;34m()\u001b[0m\n\u001b[1;32m      3\u001b[0m \u001b[0mmy_tuple\u001b[0m \u001b[0;34m=\u001b[0m \u001b[0;34m(\u001b[0m\u001b[0;36m1\u001b[0m\u001b[0;34m,\u001b[0m \u001b[0;36m2\u001b[0m\u001b[0;34m,\u001b[0m \u001b[0;36m3\u001b[0m\u001b[0;34m)\u001b[0m\u001b[0;34m\u001b[0m\u001b[0;34m\u001b[0m\u001b[0m\n\u001b[1;32m      4\u001b[0m \u001b[0mprint\u001b[0m\u001b[0;34m(\u001b[0m\u001b[0mmy_tuple\u001b[0m\u001b[0;34m)\u001b[0m  \u001b[0;31m# Output: (1, 2, 3)\u001b[0m\u001b[0;34m\u001b[0m\u001b[0;34m\u001b[0m\u001b[0m\n\u001b[0;32m----> 5\u001b[0;31m \u001b[0mmy_tuple\u001b[0m\u001b[0;34m[\u001b[0m\u001b[0;36m0\u001b[0m\u001b[0;34m]\u001b[0m \u001b[0;34m=\u001b[0m \u001b[0;36m10\u001b[0m\u001b[0;34m\u001b[0m\u001b[0;34m\u001b[0m\u001b[0m\n\u001b[0m",
            "\u001b[0;31mTypeError\u001b[0m: 'tuple' object does not support item assignment"
          ]
        }
      ]
    },
    {
      "cell_type": "markdown",
      "source": [
        "Q4- Describe how dictionaries store data.\n",
        "\n",
        "- Python dictionaries are unordered collections of key-value pairs, where each key is unique and maps to a specific value. They are implemented using a hash table internally, which allows for fast lookups, insertions, and deletions.\n",
        "\n",
        "Example-\n",
        "\n",
        "my_dict = {'name': 'Alice', 'age': 25}\n",
        "\n",
        "\n",
        "- Key: 'name', Value: 'Alice'\n",
        "- Key: 'age', Value: 25"
      ],
      "metadata": {
        "id": "BboK73sE5qMO"
      }
    },
    {
      "cell_type": "markdown",
      "source": [
        "Q5- Why might you use a set instead of a list in Python?\n",
        "\n",
        "- Uniqueness: When you need to ensure that elements are unique.\n",
        "- Performance: When you need fast membership testing or set operations (union, intersection, etc.).\n",
        "- Set operations: When you need efficient mathematical operations like union, intersection, or difference.\n",
        "- Unordered collections: When the order of elements does not matter.\n",
        "\n",
        "\n",
        "\n",
        "Q6- What is a string in Python, and how is it different from a list?\n",
        "\n",
        "- In Python, a string is a sequence of characters enclosed in either single quotes (') or double quotes (\"). Strings are a built-in data type used to store text data, and they are immutable, meaning that their contents cannot be changed after they are created.\n",
        "- A list is an ordered collection of items, which can be of any data type (including numbers, strings, or other lists). Lists are mutable, meaning you can change, add, or remove elements after the list is created.\n",
        "- The key difference between them is that a string is immutable but a list is mutable.\n",
        "\n",
        "\n",
        "Q7- How do tuples ensure data integrity in Python?\n",
        "\n",
        "- Tuples ensure data integrity in Python by being immutable—once created, their contents cannot be changed. This prevents accidental modifications, guarantees consistent data, and allows tuples to be safely used as dictionary keys or set elements. Their immutability also helps maintain data integrity in multi-threaded environments, as the data can't be altered unexpectedly.\n",
        "\n",
        "\n",
        "Q8- What is a hash table, and how does it relate to dictionaries in Python?\n",
        "\n",
        "- A hash table is a data structure that stores key-value pairs, using a hash function to map keys to specific indices for fast lookups.\n",
        "- Python dictionaries (dict) are implemented as hash tables, where the keys are hashed, and values are stored at the computed index, allowing efficient operations like insertion, deletion, and lookup (usually O(1) time).\n",
        "\n",
        "\n",
        "Q9- Can lists contain different data types in Python?\n",
        "\n",
        "- Yes, a Python list can contain different data types. It is heterogeneous, meaning it can store elements of various types, such as integers, strings, floats, and booleans, in the same list.\n",
        "\n",
        "\n",
        "Q10- Explain why strings are immutable in Python.\n",
        "\n",
        "- Strings in Python are immutable because their content cannot be changed after creation. This ensures better performance, memory efficiency, and data consistency. It also allows strings to be hashable, enabling their use as dictionary keys or set elements.\n",
        "\n",
        "Q11- What advantages do dictionaries offer over lists for certain tasks?\n",
        "\n",
        "- Dictionaries offer advantages over lists for tasks that require fast lookups (O(1) time), key-value pairing, and ensuring unique keys. They are more efficient for tasks involving quick access by key, like storing user profiles or settings, while lists are better suited for maintaining ordered collections.\n",
        "- Example Use Case:\n",
        "- Dictionaries: Store user profiles, settings, or configurations where fast access by a unique key (e.g., user ID, setting name) is needed.\n",
        "- Lists: Best suited for ordered collections or tasks where you need to maintain the order of elements.\n",
        "- In summary, dictionaries are more efficient for tasks that require fast lookups, key-value associations, and uniqueness, while lists are better for maintaining ordered collections."
      ],
      "metadata": {
        "id": "R9fT9yMv6eiZ"
      }
    },
    {
      "cell_type": "markdown",
      "source": [
        "Q12- How do sets handle duplicate values in Python?\n",
        "\n",
        "- In Python, sets automatically remove duplicate values. A set is an unordered collection of unique elements, meaning that if you try to add a duplicate value, it will be ignored.\n",
        "\n",
        "Example:\n",
        "\n",
        "my_set = {1, 2, 3, 3, 4, 5, 5}\n",
        "\n",
        "print(my_set)\n",
        "\n",
        "Output:\n",
        "\n",
        "{1, 2, 3, 4, 5}\n",
        "\n",
        "In this example, the duplicates 3 and 5 are removed when the set is created. Sets ensure that only one instance of each value is stored.\n",
        "\n",
        "\n",
        "\n",
        "Q13- Describe a scenario where using a tuple would be preferable over a list.\n",
        "\n",
        "- A tuple would be preferable over a list in scenarios where you need immutable data or when the data should remain unchanged throughout the program. Specifically:\n",
        "\n",
        "- Scenario: Storing fixed configuration values or coordinates Imagine you are working with a set of geographical coordinates (latitude, longitude, altitude) or a configuration setting that should not change once set.\n",
        "\n",
        "- In this case, a tuple is ideal because:\n",
        "\n",
        "- The coordinates represent fixed, unchanging data. The tuple’s immutability prevents accidental modification, which could lead to errors or inconsistent behavior. Why not a list?\n",
        "\n",
        "- If a list were used, the coordinates could be modified (e.g., accidentally changing the longitude), which is undesirable in this context.\n",
        "\n",
        "\n",
        "Q14- How does the “in” keyword work differently for lists and dictionaries?\n",
        "\n",
        "- The in keyword works differently for lists and dictionaries in Python:\n",
        "\n",
        "- For lists: It checks if a value exists in the list.\n",
        "\n",
        "- Example: 3 in [1, 2, 3, 4] returns True, because 3 is an element in the list.\n",
        "\n",
        "- For dictionaries: It checks if a key exists in the dictionary, not the value.\n",
        "\n",
        "- Example: 'name' in {'name': 'Alice', 'age': 30} returns True, because 'name' is a key in the dictionary.\n",
        "\n",
        "\n",
        "Q15- Can you modify the elements of a tuple? Explain why or why not?\n",
        "\n",
        "- No, you cannot modify the elements of a tuple in Python because tuples are immutable. Once a tuple is created, its elements cannot be changed, added, or removed. Why not?\n",
        "\n",
        "- Immutability: The primary reason is that tuples are designed to be immutable to ensure data integrity. This means that once the tuple is created, its structure and contents are fixed and cannot be altered, which prevents accidental modifications.\n",
        "\n",
        "Q16- What is a nested dictionary, and give an example of its use case.\n",
        "\n",
        "- A nested dictionary is a dictionary where the values are themselves dictionaries. This allows you to represent more complex, hierarchical data structures.\n",
        "\n",
        "Use Case:\n",
        "\n",
        "- A common use case for a nested dictionary is representing data that naturally fits into a hierarchical structure, such as a school database or employee records.\n",
        "\n",
        "Example:Accessing data from a nested dictionary:\n",
        "\n",
        "Get Bob's major print(students[\"Bob\"][\"major\"]) # Output: Math\n",
        "\n",
        "Get Alice's age print(students[\"Alice\"][\"age\"]) # Output: 22\n",
        "\n",
        "\n",
        "Q17- Describe the time complexity of accessing elements in a dictionary.\n",
        "\n",
        "- The time complexity of accessing elements in a Python dictionary is O(1) on average, thanks to hashing. This means retrieving a value by its key is done in constant time. In rare cases, it can degrade to O(n) due to hash collisions.\n",
        "\n",
        "\n",
        "Q18- In what situations are lists preferred over dictionaries?\n",
        "\n",
        "- Lists are preferred over dictionaries in the following situations:\n",
        "\n",
        "- Maintaining Order: When the order of elements matters, as lists are ordered collections while dictionaries (prior to Python 3.7) are unordered.\n",
        "\n",
        "- Index-Based Access: When you need to access elements by position/index rather than by key, as lists use numerical indices for access.\n",
        "\n",
        "\n",
        "Q19- Why are dictionaries considered unordered, and how does that affect data retrieval?\n",
        "\n",
        "- Dictionaries in Python were unordered before version 3.7 due to their hash table implementation, meaning the order of items was not guaranteed. Starting with Python 3.7, dictionaries preserve insertion order, but data is still retrieved by key, and retrieval remains efficient (O(1)average).\n",
        "\n",
        "- Effect on Data Retrieval:\n",
        "\n",
        "Pre-3.7 (Unordered): You cannot rely on the order of elements in a dictionary when retrieving data, as the order is not guaranteed.\n",
        "\n",
        "my_dict = {\"a\": 1, \"b\": 2, \"c\": 3}\n",
        "\n",
        "\n",
        "Order of keys might not be the same as insertion\n",
        "\n",
        "Post-3.7 (Ordered): The insertion order is preserved, but this does not affect how you retrieve data. You still access data by key, and retrieval is efficient (O(1) on average), but now the order of elements is predictable.\n",
        "\n",
        "\n",
        "my_dict = {\"a\": 1, \"b\": 2, \"c\": 3}\n",
        "\n",
        "\n",
        "Insertion order is maintained:\n",
        "print(my_dict) # Output: {'a': 1, 'b': 2, 'c': 3}\n",
        "\n",
        "\n",
        "\n",
        "\n",
        "\n",
        "Q20- Explain the difference between a list and a dictionary in terms of data retrieval.\n",
        "\n",
        "- The difference between a list and a dictionary in terms of data retrieval is:\n",
        "\n",
        "- List: Data is retrieved by index (position). Lists are ordered collections, and you access elements by their numeric index, starting from 0. Retrieval time is O(1) for accessing an element by index.\n",
        "\n",
        "- Dictionary: Data is retrieved by key. Dictionaries store key-value pairs, and you access values using unique keys. Retrieval time is O(1) on average for accessing values by key due to hashing."
      ],
      "metadata": {
        "id": "1oECAY3E7W49"
      }
    },
    {
      "cell_type": "markdown",
      "source": [
        "**Data Types and Structures Practical Questions**"
      ],
      "metadata": {
        "id": "H5y0m31I9I9O"
      }
    },
    {
      "cell_type": "markdown",
      "source": [
        "Q1.Write a code to create a string with your name and print it."
      ],
      "metadata": {
        "id": "pTyxeMNn9vTF"
      }
    },
    {
      "cell_type": "code",
      "source": [
        "my_name = \"Rajeshwar\"\n",
        "print(my_name)\n",
        ""
      ],
      "metadata": {
        "colab": {
          "base_uri": "https://localhost:8080/"
        },
        "id": "LTKLQKch97XP",
        "outputId": "efe3bc1d-8c2d-460b-e600-3bc0ad6fd60c"
      },
      "execution_count": 5,
      "outputs": [
        {
          "output_type": "stream",
          "name": "stdout",
          "text": [
            "Rajeshwar\n"
          ]
        }
      ]
    },
    {
      "cell_type": "markdown",
      "source": [
        "Q2.  Write a code to find the length of the string \"Hello World\""
      ],
      "metadata": {
        "id": "TwxIf-3Z-Fxo"
      }
    },
    {
      "cell_type": "code",
      "source": [
        "abc = \"Hello World\"\n",
        "len(abc)"
      ],
      "metadata": {
        "colab": {
          "base_uri": "https://localhost:8080/"
        },
        "id": "iPmAGPKi9_hM",
        "outputId": "3482dfb9-6ee9-441a-d8a5-360bdf2e0703"
      },
      "execution_count": 7,
      "outputs": [
        {
          "output_type": "execute_result",
          "data": {
            "text/plain": [
              "11"
            ]
          },
          "metadata": {},
          "execution_count": 7
        }
      ]
    },
    {
      "cell_type": "markdown",
      "source": [
        "Q3.Write a code to slice the first 3 characters from the string \"Python Programming\"."
      ],
      "metadata": {
        "id": "I5HLYMdu-VMJ"
      }
    },
    {
      "cell_type": "code",
      "source": [
        "text = \"python programming\"\n",
        "sliced_text = text[:3]\n",
        "print(sliced_text)"
      ],
      "metadata": {
        "colab": {
          "base_uri": "https://localhost:8080/"
        },
        "id": "BZAzBmOX-Mwb",
        "outputId": "c6c1294b-1475-47ab-cd69-044553ac3ffd"
      },
      "execution_count": 9,
      "outputs": [
        {
          "output_type": "stream",
          "name": "stdout",
          "text": [
            "pyt\n"
          ]
        }
      ]
    },
    {
      "cell_type": "markdown",
      "source": [
        "Q4.Write a code to convert the string \"hello\" to uppercase."
      ],
      "metadata": {
        "id": "UzZatipM-bbd"
      }
    },
    {
      "cell_type": "code",
      "source": [
        "text = (\"hello world\")\n",
        "text.upper()\n",
        ""
      ],
      "metadata": {
        "colab": {
          "base_uri": "https://localhost:8080/",
          "height": 35
        },
        "id": "QwsERvOW-Y29",
        "outputId": "14ec2d7e-4b5c-481d-8cbb-a45503954357"
      },
      "execution_count": 10,
      "outputs": [
        {
          "output_type": "execute_result",
          "data": {
            "text/plain": [
              "'HELLO WORLD'"
            ],
            "application/vnd.google.colaboratory.intrinsic+json": {
              "type": "string"
            }
          },
          "metadata": {},
          "execution_count": 10
        }
      ]
    },
    {
      "cell_type": "markdown",
      "source": [
        "Q5.Write a code to replace the word \"apple\" with \"orange\" in the string \"I like apple\"."
      ],
      "metadata": {
        "id": "3KGEGKb--llB"
      }
    },
    {
      "cell_type": "code",
      "source": [
        "text = (\"i like apple\")\n",
        "text.replace(\"apple\", \"orange\")"
      ],
      "metadata": {
        "colab": {
          "base_uri": "https://localhost:8080/",
          "height": 35
        },
        "id": "FFOuZrha-pFT",
        "outputId": "44864a58-7a68-4072-f46c-137c0c762a06"
      },
      "execution_count": 11,
      "outputs": [
        {
          "output_type": "execute_result",
          "data": {
            "text/plain": [
              "'i like orange'"
            ],
            "application/vnd.google.colaboratory.intrinsic+json": {
              "type": "string"
            }
          },
          "metadata": {},
          "execution_count": 11
        }
      ]
    },
    {
      "cell_type": "markdown",
      "source": [
        "Q6.Write a code to create a list with numbers 1 to 5 and print it."
      ],
      "metadata": {
        "id": "uuOs0W79-zvm"
      }
    },
    {
      "cell_type": "code",
      "source": [
        "list_1 = [1,2,3,4,5]\n",
        "print(list_1)\n",
        "\n"
      ],
      "metadata": {
        "id": "55NMzKcZ_FLx",
        "outputId": "dde52fc6-53a2-425e-cbca-3c13badda33d",
        "colab": {
          "base_uri": "https://localhost:8080/"
        }
      },
      "execution_count": 13,
      "outputs": [
        {
          "output_type": "stream",
          "name": "stdout",
          "text": [
            "[1, 2, 3, 4, 5]\n"
          ]
        }
      ]
    },
    {
      "cell_type": "markdown",
      "source": [
        "Q7.Write a code to append the number 10 to the list [1, 2, 3, 4]."
      ],
      "metadata": {
        "id": "daum43gZ-4Ek"
      }
    },
    {
      "cell_type": "code",
      "source": [
        "list_1 = [1,2,3,4]\n",
        "list_1.append(10)\n",
        "print(list_1)"
      ],
      "metadata": {
        "colab": {
          "base_uri": "https://localhost:8080/"
        },
        "id": "7ZP4dC6a-3kC",
        "outputId": "2a95083b-9041-4c49-f542-762f3b10d445"
      },
      "execution_count": 14,
      "outputs": [
        {
          "output_type": "stream",
          "name": "stdout",
          "text": [
            "[1, 2, 3, 4, 10]\n"
          ]
        }
      ]
    },
    {
      "cell_type": "markdown",
      "source": [
        "Q8.Write a code to remove the number 3 from the list [1, 2, 3, 4, 5]."
      ],
      "metadata": {
        "id": "UhSH1Kxk_QWX"
      }
    },
    {
      "cell_type": "code",
      "source": [
        "Text = [1,2,3,4,5]\n",
        "Text.remove(3)\n",
        "print(Text)"
      ],
      "metadata": {
        "id": "DHuCsorG_P2v",
        "outputId": "225a60e4-2893-4850-e73d-7f5497977df7",
        "colab": {
          "base_uri": "https://localhost:8080/"
        }
      },
      "execution_count": 17,
      "outputs": [
        {
          "output_type": "stream",
          "name": "stdout",
          "text": [
            "[1, 2, 4, 5]\n"
          ]
        }
      ]
    },
    {
      "cell_type": "markdown",
      "source": [
        "Q9.Write a code to access the second element in the list ['a', 'b', 'c', 'd']"
      ],
      "metadata": {
        "id": "-kGrNqUu_ngp"
      }
    },
    {
      "cell_type": "code",
      "source": [
        "list_1 = ['a', 'b', 'c', 'd']\n",
        "print(list_1[1])"
      ],
      "metadata": {
        "id": "d5hZl5zb_nQL",
        "outputId": "e7cb3f34-8a3f-4f41-b14d-4109e7112d26",
        "colab": {
          "base_uri": "https://localhost:8080/"
        }
      },
      "execution_count": 18,
      "outputs": [
        {
          "output_type": "stream",
          "name": "stdout",
          "text": [
            "b\n"
          ]
        }
      ]
    },
    {
      "cell_type": "markdown",
      "source": [
        "Q10.Write a code to reverse the list [10, 20, 30, 40, 50]."
      ],
      "metadata": {
        "id": "F-5h4lpp_z1G"
      }
    },
    {
      "cell_type": "code",
      "source": [
        "list_1 = [10, 20, 30, 40, 50]\n",
        "list_1.reverse()\n",
        "print(list_1)\n",
        ""
      ],
      "metadata": {
        "id": "5CmK9Z0K_zhK",
        "outputId": "b319bc04-0c3d-4198-9004-4edc69344940",
        "colab": {
          "base_uri": "https://localhost:8080/"
        }
      },
      "execution_count": 19,
      "outputs": [
        {
          "output_type": "stream",
          "name": "stdout",
          "text": [
            "[50, 40, 30, 20, 10]\n"
          ]
        }
      ]
    },
    {
      "cell_type": "markdown",
      "source": [
        "Q11.Write a code to create a tuple with the elements 10, 20, 30 and print it"
      ],
      "metadata": {
        "id": "yZ7CGo9I_8zQ"
      }
    },
    {
      "cell_type": "code",
      "source": [
        "tuple_1 = (10,20,30)\n",
        "print(tuple_1)"
      ],
      "metadata": {
        "colab": {
          "base_uri": "https://localhost:8080/"
        },
        "id": "QnpzAKLD-2jH",
        "outputId": "0a6798a1-d72e-4979-b8fa-5c7d3a69c842"
      },
      "execution_count": 20,
      "outputs": [
        {
          "output_type": "stream",
          "name": "stdout",
          "text": [
            "(10, 20, 30)\n"
          ]
        }
      ]
    },
    {
      "cell_type": "markdown",
      "source": [
        "Q12.Write a code to access the first element of the tuple ('apple', 'banana', 'cherry')."
      ],
      "metadata": {
        "id": "7E3xScFXAF7z"
      }
    },
    {
      "cell_type": "code",
      "source": [
        "tuple_1 = (\"apple\", \"banana\", \"cherry\")\n",
        "print(tuple_1[0])"
      ],
      "metadata": {
        "id": "xFIJgG7ZACjM",
        "outputId": "c507cc1b-d592-4934-faed-174251966687",
        "colab": {
          "base_uri": "https://localhost:8080/"
        }
      },
      "execution_count": 21,
      "outputs": [
        {
          "output_type": "stream",
          "name": "stdout",
          "text": [
            "apple\n"
          ]
        }
      ]
    },
    {
      "cell_type": "markdown",
      "source": [
        "Q13.Write a code to count how many times the number 2 appears in the tuple (1, 2, 3, 2, 4, 2)."
      ],
      "metadata": {
        "id": "blZa14k1ALBm"
      }
    },
    {
      "cell_type": "code",
      "source": [
        "tuple= ((1, 2, 3, 2, 4, 2))\n",
        "tuple.count(2)\n"
      ],
      "metadata": {
        "id": "aLNc7B_xAJof",
        "outputId": "1b4f93ac-f423-47b4-c4ab-4b9dc83f552a",
        "colab": {
          "base_uri": "https://localhost:8080/"
        }
      },
      "execution_count": 22,
      "outputs": [
        {
          "output_type": "execute_result",
          "data": {
            "text/plain": [
              "3"
            ]
          },
          "metadata": {},
          "execution_count": 22
        }
      ]
    },
    {
      "cell_type": "markdown",
      "source": [
        "Q14. Write a code to find the index of the element \"cat\" in the tuple ('dog', 'cat', 'rabbit')."
      ],
      "metadata": {
        "id": "pE2uixcWAYj7"
      }
    },
    {
      "cell_type": "code",
      "source": [
        "tuple =('dog', 'cat', 'rabbit')\n",
        "tuple.index('cat')\n"
      ],
      "metadata": {
        "id": "qpRijjDgARZX",
        "outputId": "cae19991-c521-4205-a5db-00c5954ece5a",
        "colab": {
          "base_uri": "https://localhost:8080/"
        }
      },
      "execution_count": 23,
      "outputs": [
        {
          "output_type": "execute_result",
          "data": {
            "text/plain": [
              "1"
            ]
          },
          "metadata": {},
          "execution_count": 23
        }
      ]
    },
    {
      "cell_type": "markdown",
      "source": [
        "Q15.Write a code to check if the element \"banana\" is in the tuple ('apple', 'orange', 'banana')."
      ],
      "metadata": {
        "id": "5eOyBSIPApI0"
      }
    },
    {
      "cell_type": "code",
      "source": [
        "tuple= ('apple', 'orange', 'banana')\n",
        "\"banana\" in tuple\n"
      ],
      "metadata": {
        "id": "O6qjqYCgAiqR",
        "outputId": "738f33b4-0deb-4f88-caf1-16e4dc34dbcc",
        "colab": {
          "base_uri": "https://localhost:8080/"
        }
      },
      "execution_count": 24,
      "outputs": [
        {
          "output_type": "execute_result",
          "data": {
            "text/plain": [
              "True"
            ]
          },
          "metadata": {},
          "execution_count": 24
        }
      ]
    },
    {
      "cell_type": "markdown",
      "source": [
        "Q16.Write a code to create a set with the elements 1, 2, 3, 4, 5 and print it."
      ],
      "metadata": {
        "id": "Qw_9sFGTAx-a"
      }
    },
    {
      "cell_type": "code",
      "source": [
        "set_1 = {1,2,3,4,5}\n",
        "print(set_1)"
      ],
      "metadata": {
        "id": "ZhQE0mn2Au_g",
        "outputId": "8791f19d-1965-430c-da37-94b8f9e64b7f",
        "colab": {
          "base_uri": "https://localhost:8080/"
        }
      },
      "execution_count": 28,
      "outputs": [
        {
          "output_type": "stream",
          "name": "stdout",
          "text": [
            "{1, 2, 3, 4, 5}\n"
          ]
        }
      ]
    },
    {
      "cell_type": "markdown",
      "source": [
        "Q17.Write a code to add the element 6 to the set {1, 2, 3, 4}."
      ],
      "metadata": {
        "id": "i3-3dooeBEeU"
      }
    },
    {
      "cell_type": "code",
      "source": [
        "set_1 = {1,2,3,4}\n",
        "set_1.add(6)\n",
        "print (set_1)\n",
        ""
      ],
      "metadata": {
        "id": "jYBzwmf1A1fS",
        "outputId": "9f80cab4-0a42-4d4b-9ce2-95e5969dd735",
        "colab": {
          "base_uri": "https://localhost:8080/"
        }
      },
      "execution_count": 29,
      "outputs": [
        {
          "output_type": "stream",
          "name": "stdout",
          "text": [
            "{1, 2, 3, 4, 6}\n"
          ]
        }
      ]
    },
    {
      "cell_type": "markdown",
      "source": [
        "Q18. Write a code to create a tuple with the elements 10, 20, 30 and print it."
      ],
      "metadata": {
        "id": "sdJS3X1ZBNLW"
      }
    },
    {
      "cell_type": "code",
      "source": [
        "tuple_1 = (10,20,30)\n",
        "print(tuple_1)"
      ],
      "metadata": {
        "id": "ZlO_WVWvBL6f",
        "outputId": "ffb1bf08-5746-4010-a4fa-bdc7be7ebc5f",
        "colab": {
          "base_uri": "https://localhost:8080/"
        }
      },
      "execution_count": 30,
      "outputs": [
        {
          "output_type": "stream",
          "name": "stdout",
          "text": [
            "(10, 20, 30)\n"
          ]
        }
      ]
    },
    {
      "cell_type": "markdown",
      "source": [
        "19. Write a code to access the first element of the tuple ('apple', 'banana', 'cherry')."
      ],
      "metadata": {
        "id": "drQhN_IoBTUM"
      }
    },
    {
      "cell_type": "code",
      "source": [
        "tuple_1 = (\"apple\", \"banana\", \"cherry\")\n",
        "print(tuple_1[0])"
      ],
      "metadata": {
        "id": "Yz24WcNlBQ_T",
        "outputId": "d27e4fd6-0773-4b49-8c18-3271f1b7cbe7",
        "colab": {
          "base_uri": "https://localhost:8080/"
        }
      },
      "execution_count": 31,
      "outputs": [
        {
          "output_type": "stream",
          "name": "stdout",
          "text": [
            "apple\n"
          ]
        }
      ]
    },
    {
      "cell_type": "markdown",
      "source": [
        "Q20. Write a code to count how many times the number 2 appears in the tuple (1, 2, 3, 2, 4, 2)."
      ],
      "metadata": {
        "id": "_YazQsqzBZnM"
      }
    },
    {
      "cell_type": "code",
      "source": [
        "tuple_1 = (1,2,3,2,4,2)\n",
        "tuple_1.count(2)"
      ],
      "metadata": {
        "id": "7vF5LGiuBXid",
        "outputId": "d3abe255-93b5-4251-fe32-6672c6fef214",
        "colab": {
          "base_uri": "https://localhost:8080/"
        }
      },
      "execution_count": 32,
      "outputs": [
        {
          "output_type": "execute_result",
          "data": {
            "text/plain": [
              "3"
            ]
          },
          "metadata": {},
          "execution_count": 32
        }
      ]
    },
    {
      "cell_type": "markdown",
      "source": [
        "Q21 Write a code to find the index of the element \"cat\" in the tuple ('dog', 'cat', 'rabbit')"
      ],
      "metadata": {
        "id": "4TmzvxEKBgx4"
      }
    },
    {
      "cell_type": "code",
      "source": [
        "tuple_1= ('dog', 'cat', 'rabbit')\n",
        "tuple_1.index(\"cat\")"
      ],
      "metadata": {
        "id": "HwAD6SCMBcS3",
        "outputId": "d5de7480-060d-499f-a559-4fca0a02874a",
        "colab": {
          "base_uri": "https://localhost:8080/"
        }
      },
      "execution_count": 33,
      "outputs": [
        {
          "output_type": "execute_result",
          "data": {
            "text/plain": [
              "1"
            ]
          },
          "metadata": {},
          "execution_count": 33
        }
      ]
    },
    {
      "cell_type": "markdown",
      "source": [
        "Q22.Write a code to check if the element \"banana\" is in the tuple ('apple', 'orange', 'banana')."
      ],
      "metadata": {
        "id": "3zpzzY48BlN9"
      }
    },
    {
      "cell_type": "code",
      "source": [
        "tuple_1= ('apple', 'orange', 'banana')\n",
        "(\"banana\") in tuple_1\n",
        ""
      ],
      "metadata": {
        "id": "fYNAZ-UCBpEQ",
        "outputId": "3f3a8825-a17a-4180-a0ff-8ca5f07fa130",
        "colab": {
          "base_uri": "https://localhost:8080/"
        }
      },
      "execution_count": 34,
      "outputs": [
        {
          "output_type": "execute_result",
          "data": {
            "text/plain": [
              "True"
            ]
          },
          "metadata": {},
          "execution_count": 34
        }
      ]
    },
    {
      "cell_type": "markdown",
      "source": [
        "Q23.Write a code to create a set with the elements 1, 2, 3, 4, 5 and print it."
      ],
      "metadata": {
        "id": "dIdoBDQFBtY1"
      }
    },
    {
      "cell_type": "code",
      "source": [
        "set_1 = {1,2,3,4,5}\n",
        "print(set_1)\n",
        ""
      ],
      "metadata": {
        "id": "PTkli8u_BvKP",
        "outputId": "bd240bff-0eb7-4031-9755-f5cf1b22fa0a",
        "colab": {
          "base_uri": "https://localhost:8080/"
        }
      },
      "execution_count": 35,
      "outputs": [
        {
          "output_type": "stream",
          "name": "stdout",
          "text": [
            "{1, 2, 3, 4, 5}\n"
          ]
        }
      ]
    },
    {
      "cell_type": "markdown",
      "source": [
        "Q24.Write a code to add the element 6 to the set {1, 2, 3, 4}."
      ],
      "metadata": {
        "id": "NStOCM8fB2xK"
      }
    },
    {
      "cell_type": "code",
      "source": [
        "set_1 = {1,2,3,4}\n",
        "set_1.add(6)\n",
        "print (set_1)"
      ],
      "metadata": {
        "id": "m2Xxln6TBxZN",
        "outputId": "a8036d25-8bc6-4a16-cf94-4163594efe75",
        "colab": {
          "base_uri": "https://localhost:8080/"
        }
      },
      "execution_count": 36,
      "outputs": [
        {
          "output_type": "stream",
          "name": "stdout",
          "text": [
            "{1, 2, 3, 4, 6}\n"
          ]
        }
      ]
    }
  ]
}